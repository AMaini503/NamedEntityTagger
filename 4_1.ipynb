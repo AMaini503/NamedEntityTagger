{
 "cells": [
  {
   "cell_type": "code",
   "execution_count": 8,
   "metadata": {},
   "outputs": [],
   "source": [
    "#!/usr/bin/python"
   ]
  },
  {
   "cell_type": "code",
   "execution_count": 9,
   "metadata": {},
   "outputs": [],
   "source": [
    "def getWordCount():\n",
    "    words = set()\n",
    "    count_of_words = dict()\n",
    "    \n",
    "    with open('ner.counts') as f:\n",
    "        for line in f:\n",
    "            tokens = line.strip().split()\n",
    "            if(tokens[1] == 'WORDTAG'):\n",
    "                word = tokens[3]\n",
    "                this_count = int(tokens[0])\n",
    "                if(word in count_of_words):\n",
    "                    count_of_words[word] += this_count\n",
    "                else:\n",
    "                    count_of_words[word] = this_count\n",
    "    return count_of_words"
   ]
  },
  {
   "cell_type": "code",
   "execution_count": 10,
   "metadata": {},
   "outputs": [],
   "source": [
    "def modifyRareWords(rare_words):\n",
    "    new_train_file_name = 'ner_train_rare.dat'\n",
    "    old_train_file_name = 'ner_train.dat'\n",
    "    \n",
    "    with open(new_train_file_name, 'w') as fnew, open(old_train_file_name) as fold:\n",
    "        for line in fold:\n",
    "            \n",
    "\n",
    "            #new line is added manually afterwards, so striped\n",
    "            tokens = line.strip().split()\n",
    "            \n",
    "            new_line = ''\n",
    "            \n",
    "            #if not a new line\n",
    "            if(len(tokens) > 0):\n",
    "                word = tokens[0]\n",
    "                if(word in rare_words):\n",
    "                    tokens[0] = '_RARE_'\n",
    "                    new_line = ' '.join(tokens)\n",
    "                    new_line = new_line + '\\n'\n",
    "                else:\n",
    "                    new_line = line\n",
    "            else:\n",
    "                new_line = line\n",
    "                \n",
    "            fnew.write(new_line)"
   ]
  },
  {
   "cell_type": "code",
   "execution_count": 11,
   "metadata": {},
   "outputs": [],
   "source": [
    "def getRareWords(count_of_words):\n",
    "    rare_words = [word for word in count_of_words if count_of_words[word] < 5]\n",
    "    return rare_words"
   ]
  },
  {
   "cell_type": "code",
   "execution_count": 7,
   "metadata": {},
   "outputs": [],
   "source": [
    "count_of_words = getWordCount()\n",
    "rare_words = getRareWords(count_of_words)\n",
    "modifyRareWords(rare_words)"
   ]
  },
  {
   "cell_type": "code",
   "execution_count": null,
   "metadata": {},
   "outputs": [],
   "source": []
  }
 ],
 "metadata": {
  "kernelspec": {
   "display_name": "Python 2",
   "language": "python",
   "name": "python2"
  },
  "language_info": {
   "codemirror_mode": {
    "name": "ipython",
    "version": 2
   },
   "file_extension": ".py",
   "mimetype": "text/x-python",
   "name": "python",
   "nbconvert_exporter": "python",
   "pygments_lexer": "ipython2",
   "version": "2.7.12"
  }
 },
 "nbformat": 4,
 "nbformat_minor": 2
}
