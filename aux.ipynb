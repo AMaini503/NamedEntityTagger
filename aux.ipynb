{
 "cells": [
  {
   "cell_type": "code",
   "execution_count": null,
   "metadata": {},
   "outputs": [],
   "source": [
    "def computeEmissions():\n",
    "    #read the ner_rare.counts file\n",
    "    #compute e(x|y) for all x and y\n",
    "\n",
    "    words = set()\n",
    "    tags = set()\n",
    "\n",
    "    #find out all the distinct words and tags\n",
    "    with open('ner_rare.counts') as f:\n",
    "        for line in f:\n",
    "            tokens = line.strip().split()\n",
    "            if(tokens[1] == 'WORDTAG'):\n",
    "                words.add(tokens[3])\n",
    "                tags.add(tokens[2])\n",
    "                \n",
    "    #emissions[word][tag] -> e(word | tag)\n",
    "    emissions = dict()\n",
    "\n",
    "    for word in words:\n",
    "        emissions[word] = dict()\n",
    "\n",
    "        #by defult if a tag is not assigned to a word => count(x, y) = 0\n",
    "        for tag in tags:\n",
    "            emissions[word][tag] = 0\n",
    "\n",
    "    #count(y)\n",
    "    count_of_tags = dict()\n",
    "    for tag in tags:\n",
    "        count_of_tags[tag] = 0\n",
    "\n",
    "    with open('ner_rare.counts') as f:\n",
    "        for line in f:\n",
    "            tokens = line.strip().split()\n",
    "            if(tokens[1] == 'WORDTAG'):\n",
    "                word = tokens[3]\n",
    "                tag = tokens[2]\n",
    "                tag_count = int(tokens[0])\n",
    "                count_of_tags[tag] += tag_count\n",
    "                emissions[word][tag] = int(tokens[0])\n",
    "\n",
    "    #normalize the counts now\n",
    "    for word in words:\n",
    "        for tag in tags: \n",
    "            emissions[word][tag] = float(emissions[word][tag]) / float(count_of_tags[tag])\n",
    "    \n",
    "    return emissions\n"
   ]
  },
  {
   "cell_type": "code",
   "execution_count": null,
   "metadata": {},
   "outputs": [],
   "source": [
    "def isRare(emissions, x):\n",
    "    return not (x in emissions)"
   ]
  },
  {
   "cell_type": "code",
   "execution_count": null,
   "metadata": {},
   "outputs": [],
   "source": [
    "def getTrigramCount(w_x, w_y, w_z):\n",
    "    count_of_trigram = 0\n",
    "    with open('ner_rare.counts') as f:\n",
    "        for line in f:\n",
    "            tokens = line.strip().split()\n",
    "            if(tokens[1] == '3-GRAM' \n",
    "               and tokens[2] == w_x \n",
    "               and tokens[3] == w_y \n",
    "               and tokens[4] == w_z):\n",
    "                \n",
    "                count_of_trigram = int(tokens[0])\n",
    "                break\n",
    "    return count_of_trigram"
   ]
  },
  {
   "cell_type": "code",
   "execution_count": null,
   "metadata": {},
   "outputs": [],
   "source": [
    "def getBigramCount(w_x, w_y):\n",
    "    count_of_bigram = 0\n",
    "    with open('ner_rare.counts') as f:\n",
    "        for line in f:\n",
    "            tokens = line.strip().split()\n",
    "            if(tokens[1] == '2-GRAM' \n",
    "               and tokens[2] == w_x \n",
    "               and tokens[3] == w_y):\n",
    "                \n",
    "                count_of_bigram = int(tokens[0])\n",
    "                break\n",
    "    return count_of_bigram\n",
    "                "
   ]
  }
 ],
 "metadata": {
  "kernelspec": {
   "display_name": "Python 2",
   "language": "python",
   "name": "python2"
  },
  "language_info": {
   "codemirror_mode": {
    "name": "ipython",
    "version": 2
   },
   "file_extension": ".py",
   "mimetype": "text/x-python",
   "name": "python",
   "nbconvert_exporter": "python",
   "pygments_lexer": "ipython2",
   "version": "2.7.12"
  }
 },
 "nbformat": 4,
 "nbformat_minor": 2
}
