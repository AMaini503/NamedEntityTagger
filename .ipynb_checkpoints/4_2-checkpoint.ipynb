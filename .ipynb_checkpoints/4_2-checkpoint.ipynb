{
 "cells": [
  {
   "cell_type": "code",
   "execution_count": null,
   "metadata": {},
   "outputs": [],
   "source": [
    "import numpy as np"
   ]
  },
  {
   "cell_type": "code",
   "execution_count": null,
   "metadata": {},
   "outputs": [],
   "source": [
    "def computeEmissions():\n",
    "    #read the ner_rare.counts file\n",
    "    #compute e(x|y) for all x and y\n",
    "\n",
    "    words = set()\n",
    "    tags = set()\n",
    "\n",
    "    #find out all the distinct words and tags\n",
    "    with open('ner.counts') as f:\n",
    "        for line in f:\n",
    "            tokens = line.strip().split()\n",
    "            if(tokens[1] == 'WORDTAG'):\n",
    "                words.add(tokens[3])\n",
    "                tags.add(tokens[2])\n",
    "                \n",
    "    #emissions[word][tag] -> e(word | tag)\n",
    "    emissions = dict()\n",
    "\n",
    "    for word in words:\n",
    "        emissions[word] = dict()\n",
    "\n",
    "        #by defult if a tag is not assigned to a word => count(x, y) = 0\n",
    "        for tag in tags:\n",
    "            emissions[word][tag] = 0\n",
    "\n",
    "    #count(y)\n",
    "    count_of_tags = dict()\n",
    "    for tag in tags:\n",
    "        count_of_tags[tag] = 0\n",
    "\n",
    "    with open('ner_rare.counts') as f:\n",
    "        for line in f:\n",
    "            tokens = line.strip().split()\n",
    "            if(tokens[1] == 'WORDTAG'):\n",
    "                word = tokens[3]\n",
    "                tag = tokens[2]\n",
    "                tag_count = int(tokens[0])\n",
    "                count_of_tags[tag] += tag_count\n",
    "                emissions[word][tag] = int(tokens[0])\n",
    "\n",
    "    #normalize the counts now\n",
    "    for word in words:\n",
    "        for tag in tags: \n",
    "            emissions[word][tag] = float(emissions[word][tag]) / float(count_of_tags[tag])\n",
    "    \n",
    "    return emissions\n"
   ]
  },
  {
   "cell_type": "code",
   "execution_count": null,
   "metadata": {},
   "outputs": [],
   "source": [
    "def isRare(emissions, x):\n",
    "    return not (x in emissions)"
   ]
  },
  {
   "cell_type": "code",
   "execution_count": null,
   "metadata": {},
   "outputs": [],
   "source": [
    "def findMaxEmissionAndTag(emissions, x):\n",
    "    emissions_for_x = emissions[x]\n",
    "    return max(emissions_for_x.itemitems(), key = lambda x: x[1])"
   ]
  },
  {
   "cell_type": "code",
   "execution_count": null,
   "metadata": {},
   "outputs": [],
   "source": [
    "def writeTagsForDev(emissions):\n",
    "    with open('ner_dev.dat') as f_input, open('4_2.txt', 'w') as f_output:\n",
    "        for line in f:\n",
    "            tokens = line.strip().split()\n",
    "            \n",
    "            line_written_to_output = ''\n",
    "            \n",
    "            #not a new line\n",
    "            if(len(tokens) > 0):\n",
    "                \n",
    "                #x is modified if it is _RARE_\n",
    "                x = tokens[0]\n",
    "                #word is used when writing to the output file, this is not modified\n",
    "                word = tokens[0]\n",
    "                if(isRare(word)):\n",
    "                    x = '_RARE_'\n",
    "                \n",
    "                tag, max_emission = findMaxEmissionAndTag(emissions, x)\n",
    "                log_max_emission = np.log10(max_emission)\n",
    "                line_written_to_output = ' '.join([word, \n",
    "                                                   tag,\n",
    "                                                  '{}'.format(log_max_emission)])\n",
    "                line_written_to_output = line_written_to_output + '\\n'\n",
    "            else:\n",
    "                line_written_to_output = '\\n'\n",
    "            \n",
    "            f_output.write(line_written_to_output)\n",
    "                    "
   ]
  },
  {
   "cell_type": "code",
   "execution_count": null,
   "metadata": {},
   "outputs": [],
   "source": [
    "emissions = computeEmissions()\n",
    "writeTagsForDev()"
   ]
  }
 ],
 "metadata": {
  "kernelspec": {
   "display_name": "Python 2",
   "language": "python",
   "name": "python2"
  },
  "language_info": {
   "codemirror_mode": {
    "name": "ipython",
    "version": 2
   },
   "file_extension": ".py",
   "mimetype": "text/x-python",
   "name": "python",
   "nbconvert_exporter": "python",
   "pygments_lexer": "ipython2",
   "version": "2.7.12"
  }
 },
 "nbformat": 4,
 "nbformat_minor": 2
}
