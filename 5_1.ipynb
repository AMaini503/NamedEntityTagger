{
 "cells": [
  {
   "cell_type": "code",
   "execution_count": 10,
   "metadata": {},
   "outputs": [],
   "source": [
    "import numpy as np"
   ]
  },
  {
   "cell_type": "code",
   "execution_count": 11,
   "metadata": {},
   "outputs": [],
   "source": [
    "def getTrigramCount(w_x, w_y, w_z):\n",
    "    count_of_trigram = 0\n",
    "    with open('ner_rare.counts') as f:\n",
    "        for line in f:\n",
    "            tokens = line.strip().split()\n",
    "            if(tokens[1] == '3-GRAM' \n",
    "               and tokens[2] == w_x \n",
    "               and tokens[3] == w_y \n",
    "               and tokens[4] == w_z):\n",
    "                \n",
    "                count_of_trigram = int(tokens[0])\n",
    "                break\n",
    "    return count_of_trigram\n",
    "                "
   ]
  },
  {
   "cell_type": "code",
   "execution_count": 12,
   "metadata": {},
   "outputs": [],
   "source": [
    "def getBigramCount(w_x, w_y):\n",
    "    count_of_bigram = 0\n",
    "    with open('ner_rare.counts') as f:\n",
    "        for line in f:\n",
    "            tokens = line.strip().split()\n",
    "            if(tokens[1] == '2-GRAM' \n",
    "               and tokens[2] == w_x \n",
    "               and tokens[3] == w_y):\n",
    "                \n",
    "                count_of_bigram = int(tokens[0])\n",
    "                break\n",
    "    return count_of_bigram\n",
    "                "
   ]
  },
  {
   "cell_type": "code",
   "execution_count": 13,
   "metadata": {},
   "outputs": [],
   "source": [
    "with open('trigrams.txt') as f_input, open('5_1.txt', 'w') as f_output:\n",
    "    for line in f_input:\n",
    "        w_x, w_y, w_z = line.strip().split()\n",
    "        \n",
    "        count_of_trigram = getTrigramCount(w_x, w_y, w_z)\n",
    "        count_of_bigram  = getBigramCount(w_x, w_y)\n",
    "        \n",
    "        prob_q = float(count_of_trigram) / float(count_of_bigram)\n",
    "        log_prob_q = np.log(prob_q)\n",
    "        \n",
    "        line_written_to_output = ' '.join([w_x, w_y, w_z, \n",
    "                                           '{:.4f}'.format(log_prob_q)])\n",
    "        line_written_to_output = line_written_to_output + '\\n'\n",
    "        \n",
    "        f_output.write(line_written_to_output)\n",
    "        "
   ]
  },
  {
   "cell_type": "code",
   "execution_count": null,
   "metadata": {},
   "outputs": [],
   "source": []
  }
 ],
 "metadata": {
  "kernelspec": {
   "display_name": "Python 2",
   "language": "python",
   "name": "python2"
  },
  "language_info": {
   "codemirror_mode": {
    "name": "ipython",
    "version": 2
   },
   "file_extension": ".py",
   "mimetype": "text/x-python",
   "name": "python",
   "nbconvert_exporter": "python",
   "pygments_lexer": "ipython2",
   "version": "2.7.12"
  }
 },
 "nbformat": 4,
 "nbformat_minor": 2
}
